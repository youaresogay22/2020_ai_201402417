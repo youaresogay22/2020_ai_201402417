{
 "cells": [
  {
   "cell_type": "code",
   "execution_count": 1,
   "metadata": {},
   "outputs": [],
   "source": [
    "import numpy as np\n",
    "import pandas as pd\n",
    "import matplotlib.pyplot as plt\n",
    "\n",
    "from os.path import join"
   ]
  },
  {
   "cell_type": "code",
   "execution_count": 2,
   "metadata": {},
   "outputs": [],
   "source": [
    "datax = np.load(join('data', 'MNIST.npy'))\n",
    "datay = np.load(join('data', 'Label.npy'))"
   ]
  },
  {
   "cell_type": "code",
   "execution_count": 3,
   "metadata": {},
   "outputs": [
    {
     "output_type": "stream",
     "name": "stdout",
     "text": [
      "(60000, 28, 28)\n(60000,)\n"
     ]
    }
   ],
   "source": [
    "print(datax.shape)\n",
    "print(datay.shape)"
   ]
  },
  {
   "cell_type": "code",
   "execution_count": 4,
   "metadata": {},
   "outputs": [
    {
     "output_type": "display_data",
     "data": {
      "text/plain": "<Figure size 432x288 with 1 Axes>",
      "image/svg+xml": "<?xml version=\"1.0\" encoding=\"utf-8\" standalone=\"no\"?>\r\n<!DOCTYPE svg PUBLIC \"-//W3C//DTD SVG 1.1//EN\"\r\n  \"http://www.w3.org/Graphics/SVG/1.1/DTD/svg11.dtd\">\r\n<!-- Created with matplotlib (https://matplotlib.org/) -->\r\n<svg height=\"248.518125pt\" version=\"1.1\" viewBox=\"0 0 251.565 248.518125\" width=\"251.565pt\" xmlns=\"http://www.w3.org/2000/svg\" xmlns:xlink=\"http://www.w3.org/1999/xlink\">\r\n <metadata>\r\n  <rdf:RDF xmlns:cc=\"http://creativecommons.org/ns#\" xmlns:dc=\"http://purl.org/dc/elements/1.1/\" xmlns:rdf=\"http://www.w3.org/1999/02/22-rdf-syntax-ns#\">\r\n   <cc:Work>\r\n    <dc:type rdf:resource=\"http://purl.org/dc/dcmitype/StillImage\"/>\r\n    <dc:date>2020-11-04T13:29:14.894797</dc:date>\r\n    <dc:format>image/svg+xml</dc:format>\r\n    <dc:creator>\r\n     <cc:Agent>\r\n      <dc:title>Matplotlib v3.3.1, https://matplotlib.org/</dc:title>\r\n     </cc:Agent>\r\n    </dc:creator>\r\n   </cc:Work>\r\n  </rdf:RDF>\r\n </metadata>\r\n <defs>\r\n  <style type=\"text/css\">*{stroke-linecap:butt;stroke-linejoin:round;}</style>\r\n </defs>\r\n <g id=\"figure_1\">\r\n  <g id=\"patch_1\">\r\n   <path d=\"M 0 248.518125 \r\nL 251.565 248.518125 \r\nL 251.565 0 \r\nL 0 0 \r\nz\r\n\" style=\"fill:none;\"/>\r\n  </g>\r\n  <g id=\"axes_1\">\r\n   <g id=\"patch_2\">\r\n    <path d=\"M 26.925 224.64 \r\nL 244.365 224.64 \r\nL 244.365 7.2 \r\nL 26.925 7.2 \r\nz\r\n\" style=\"fill:#ffffff;\"/>\r\n   </g>\r\n   <g clip-path=\"url(#p7781beaf51)\">\r\n    <image height=\"218\" id=\"image68cffcfdec\" transform=\"scale(1 -1)translate(0 -218)\" width=\"218\" x=\"26.925\" xlink:href=\"data:image/png;base64,\r\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\" y=\"-6.64\"/>\r\n   </g>\r\n   <g id=\"matplotlib.axis_1\">\r\n    <g id=\"xtick_1\">\r\n     <g id=\"line2d_1\">\r\n      <defs>\r\n       <path d=\"M 0 0 \r\nL 0 3.5 \r\n\" id=\"m2e0b802088\" style=\"stroke:#000000;stroke-width:0.8;\"/>\r\n      </defs>\r\n      <g>\r\n       <use style=\"stroke:#000000;stroke-width:0.8;\" x=\"30.807857\" xlink:href=\"#m2e0b802088\" y=\"224.64\"/>\r\n      </g>\r\n     </g>\r\n     <g id=\"text_1\">\r\n      <!-- 0 -->\r\n      <g transform=\"translate(27.626607 239.238437)scale(0.1 -0.1)\">\r\n       <defs>\r\n        <path d=\"M 31.78125 66.40625 \r\nQ 24.171875 66.40625 20.328125 58.90625 \r\nQ 16.5 51.421875 16.5 36.375 \r\nQ 16.5 21.390625 20.328125 13.890625 \r\nQ 24.171875 6.390625 31.78125 6.390625 \r\nQ 39.453125 6.390625 43.28125 13.890625 \r\nQ 47.125 21.390625 47.125 36.375 \r\nQ 47.125 51.421875 43.28125 58.90625 \r\nQ 39.453125 66.40625 31.78125 66.40625 \r\nz\r\nM 31.78125 74.21875 \r\nQ 44.046875 74.21875 50.515625 64.515625 \r\nQ 56.984375 54.828125 56.984375 36.375 \r\nQ 56.984375 17.96875 50.515625 8.265625 \r\nQ 44.046875 -1.421875 31.78125 -1.421875 \r\nQ 19.53125 -1.421875 13.0625 8.265625 \r\nQ 6.59375 17.96875 6.59375 36.375 \r\nQ 6.59375 54.828125 13.0625 64.515625 \r\nQ 19.53125 74.21875 31.78125 74.21875 \r\nz\r\n\" id=\"DejaVuSans-48\"/>\r\n       </defs>\r\n       <use xlink:href=\"#DejaVuSans-48\"/>\r\n      </g>\r\n     </g>\r\n    </g>\r\n    <g id=\"xtick_2\">\r\n     <g id=\"line2d_2\">\r\n      <g>\r\n       <use style=\"stroke:#000000;stroke-width:0.8;\" x=\"69.636429\" xlink:href=\"#m2e0b802088\" y=\"224.64\"/>\r\n      </g>\r\n     </g>\r\n     <g id=\"text_2\">\r\n      <!-- 5 -->\r\n      <g transform=\"translate(66.455179 239.238437)scale(0.1 -0.1)\">\r\n       <defs>\r\n        <path d=\"M 10.796875 72.90625 \r\nL 49.515625 72.90625 \r\nL 49.515625 64.59375 \r\nL 19.828125 64.59375 \r\nL 19.828125 46.734375 \r\nQ 21.96875 47.46875 24.109375 47.828125 \r\nQ 26.265625 48.1875 28.421875 48.1875 \r\nQ 40.625 48.1875 47.75 41.5 \r\nQ 54.890625 34.8125 54.890625 23.390625 \r\nQ 54.890625 11.625 47.5625 5.09375 \r\nQ 40.234375 -1.421875 26.90625 -1.421875 \r\nQ 22.3125 -1.421875 17.546875 -0.640625 \r\nQ 12.796875 0.140625 7.71875 1.703125 \r\nL 7.71875 11.625 \r\nQ 12.109375 9.234375 16.796875 8.0625 \r\nQ 21.484375 6.890625 26.703125 6.890625 \r\nQ 35.15625 6.890625 40.078125 11.328125 \r\nQ 45.015625 15.765625 45.015625 23.390625 \r\nQ 45.015625 31 40.078125 35.4375 \r\nQ 35.15625 39.890625 26.703125 39.890625 \r\nQ 22.75 39.890625 18.8125 39.015625 \r\nQ 14.890625 38.140625 10.796875 36.28125 \r\nz\r\n\" id=\"DejaVuSans-53\"/>\r\n       </defs>\r\n       <use xlink:href=\"#DejaVuSans-53\"/>\r\n      </g>\r\n     </g>\r\n    </g>\r\n    <g id=\"xtick_3\">\r\n     <g id=\"line2d_3\">\r\n      <g>\r\n       <use style=\"stroke:#000000;stroke-width:0.8;\" x=\"108.465\" xlink:href=\"#m2e0b802088\" y=\"224.64\"/>\r\n      </g>\r\n     </g>\r\n     <g id=\"text_3\">\r\n      <!-- 10 -->\r\n      <g transform=\"translate(102.1025 239.238437)scale(0.1 -0.1)\">\r\n       <defs>\r\n        <path d=\"M 12.40625 8.296875 \r\nL 28.515625 8.296875 \r\nL 28.515625 63.921875 \r\nL 10.984375 60.40625 \r\nL 10.984375 69.390625 \r\nL 28.421875 72.90625 \r\nL 38.28125 72.90625 \r\nL 38.28125 8.296875 \r\nL 54.390625 8.296875 \r\nL 54.390625 0 \r\nL 12.40625 0 \r\nz\r\n\" id=\"DejaVuSans-49\"/>\r\n       </defs>\r\n       <use xlink:href=\"#DejaVuSans-49\"/>\r\n       <use x=\"63.623047\" xlink:href=\"#DejaVuSans-48\"/>\r\n      </g>\r\n     </g>\r\n    </g>\r\n    <g id=\"xtick_4\">\r\n     <g id=\"line2d_4\">\r\n      <g>\r\n       <use style=\"stroke:#000000;stroke-width:0.8;\" x=\"147.293571\" xlink:href=\"#m2e0b802088\" y=\"224.64\"/>\r\n      </g>\r\n     </g>\r\n     <g id=\"text_4\">\r\n      <!-- 15 -->\r\n      <g transform=\"translate(140.931071 239.238437)scale(0.1 -0.1)\">\r\n       <use xlink:href=\"#DejaVuSans-49\"/>\r\n       <use x=\"63.623047\" xlink:href=\"#DejaVuSans-53\"/>\r\n      </g>\r\n     </g>\r\n    </g>\r\n    <g id=\"xtick_5\">\r\n     <g id=\"line2d_5\">\r\n      <g>\r\n       <use style=\"stroke:#000000;stroke-width:0.8;\" x=\"186.122143\" xlink:href=\"#m2e0b802088\" y=\"224.64\"/>\r\n      </g>\r\n     </g>\r\n     <g id=\"text_5\">\r\n      <!-- 20 -->\r\n      <g transform=\"translate(179.759643 239.238437)scale(0.1 -0.1)\">\r\n       <defs>\r\n        <path d=\"M 19.1875 8.296875 \r\nL 53.609375 8.296875 \r\nL 53.609375 0 \r\nL 7.328125 0 \r\nL 7.328125 8.296875 \r\nQ 12.9375 14.109375 22.625 23.890625 \r\nQ 32.328125 33.6875 34.8125 36.53125 \r\nQ 39.546875 41.84375 41.421875 45.53125 \r\nQ 43.3125 49.21875 43.3125 52.78125 \r\nQ 43.3125 58.59375 39.234375 62.25 \r\nQ 35.15625 65.921875 28.609375 65.921875 \r\nQ 23.96875 65.921875 18.8125 64.3125 \r\nQ 13.671875 62.703125 7.8125 59.421875 \r\nL 7.8125 69.390625 \r\nQ 13.765625 71.78125 18.9375 73 \r\nQ 24.125 74.21875 28.421875 74.21875 \r\nQ 39.75 74.21875 46.484375 68.546875 \r\nQ 53.21875 62.890625 53.21875 53.421875 \r\nQ 53.21875 48.921875 51.53125 44.890625 \r\nQ 49.859375 40.875 45.40625 35.40625 \r\nQ 44.1875 33.984375 37.640625 27.21875 \r\nQ 31.109375 20.453125 19.1875 8.296875 \r\nz\r\n\" id=\"DejaVuSans-50\"/>\r\n       </defs>\r\n       <use xlink:href=\"#DejaVuSans-50\"/>\r\n       <use x=\"63.623047\" xlink:href=\"#DejaVuSans-48\"/>\r\n      </g>\r\n     </g>\r\n    </g>\r\n    <g id=\"xtick_6\">\r\n     <g id=\"line2d_6\">\r\n      <g>\r\n       <use style=\"stroke:#000000;stroke-width:0.8;\" x=\"224.950714\" xlink:href=\"#m2e0b802088\" y=\"224.64\"/>\r\n      </g>\r\n     </g>\r\n     <g id=\"text_6\">\r\n      <!-- 25 -->\r\n      <g transform=\"translate(218.588214 239.238437)scale(0.1 -0.1)\">\r\n       <use xlink:href=\"#DejaVuSans-50\"/>\r\n       <use x=\"63.623047\" xlink:href=\"#DejaVuSans-53\"/>\r\n      </g>\r\n     </g>\r\n    </g>\r\n   </g>\r\n   <g id=\"matplotlib.axis_2\">\r\n    <g id=\"ytick_1\">\r\n     <g id=\"line2d_7\">\r\n      <defs>\r\n       <path d=\"M 0 0 \r\nL -3.5 0 \r\n\" id=\"m90f77c066b\" style=\"stroke:#000000;stroke-width:0.8;\"/>\r\n      </defs>\r\n      <g>\r\n       <use style=\"stroke:#000000;stroke-width:0.8;\" x=\"26.925\" xlink:href=\"#m90f77c066b\" y=\"11.082857\"/>\r\n      </g>\r\n     </g>\r\n     <g id=\"text_7\">\r\n      <!-- 0 -->\r\n      <g transform=\"translate(13.5625 14.882076)scale(0.1 -0.1)\">\r\n       <use xlink:href=\"#DejaVuSans-48\"/>\r\n      </g>\r\n     </g>\r\n    </g>\r\n    <g id=\"ytick_2\">\r\n     <g id=\"line2d_8\">\r\n      <g>\r\n       <use style=\"stroke:#000000;stroke-width:0.8;\" x=\"26.925\" xlink:href=\"#m90f77c066b\" y=\"49.911429\"/>\r\n      </g>\r\n     </g>\r\n     <g id=\"text_8\">\r\n      <!-- 5 -->\r\n      <g transform=\"translate(13.5625 53.710647)scale(0.1 -0.1)\">\r\n       <use xlink:href=\"#DejaVuSans-53\"/>\r\n      </g>\r\n     </g>\r\n    </g>\r\n    <g id=\"ytick_3\">\r\n     <g id=\"line2d_9\">\r\n      <g>\r\n       <use style=\"stroke:#000000;stroke-width:0.8;\" x=\"26.925\" xlink:href=\"#m90f77c066b\" y=\"88.74\"/>\r\n      </g>\r\n     </g>\r\n     <g id=\"text_9\">\r\n      <!-- 10 -->\r\n      <g transform=\"translate(7.2 92.539219)scale(0.1 -0.1)\">\r\n       <use xlink:href=\"#DejaVuSans-49\"/>\r\n       <use x=\"63.623047\" xlink:href=\"#DejaVuSans-48\"/>\r\n      </g>\r\n     </g>\r\n    </g>\r\n    <g id=\"ytick_4\">\r\n     <g id=\"line2d_10\">\r\n      <g>\r\n       <use style=\"stroke:#000000;stroke-width:0.8;\" x=\"26.925\" xlink:href=\"#m90f77c066b\" y=\"127.568571\"/>\r\n      </g>\r\n     </g>\r\n     <g id=\"text_10\">\r\n      <!-- 15 -->\r\n      <g transform=\"translate(7.2 131.36779)scale(0.1 -0.1)\">\r\n       <use xlink:href=\"#DejaVuSans-49\"/>\r\n       <use x=\"63.623047\" xlink:href=\"#DejaVuSans-53\"/>\r\n      </g>\r\n     </g>\r\n    </g>\r\n    <g id=\"ytick_5\">\r\n     <g id=\"line2d_11\">\r\n      <g>\r\n       <use style=\"stroke:#000000;stroke-width:0.8;\" x=\"26.925\" xlink:href=\"#m90f77c066b\" y=\"166.397143\"/>\r\n      </g>\r\n     </g>\r\n     <g id=\"text_11\">\r\n      <!-- 20 -->\r\n      <g transform=\"translate(7.2 170.196362)scale(0.1 -0.1)\">\r\n       <use xlink:href=\"#DejaVuSans-50\"/>\r\n       <use x=\"63.623047\" xlink:href=\"#DejaVuSans-48\"/>\r\n      </g>\r\n     </g>\r\n    </g>\r\n    <g id=\"ytick_6\">\r\n     <g id=\"line2d_12\">\r\n      <g>\r\n       <use style=\"stroke:#000000;stroke-width:0.8;\" x=\"26.925\" xlink:href=\"#m90f77c066b\" y=\"205.225714\"/>\r\n      </g>\r\n     </g>\r\n     <g id=\"text_12\">\r\n      <!-- 25 -->\r\n      <g transform=\"translate(7.2 209.024933)scale(0.1 -0.1)\">\r\n       <use xlink:href=\"#DejaVuSans-50\"/>\r\n       <use x=\"63.623047\" xlink:href=\"#DejaVuSans-53\"/>\r\n      </g>\r\n     </g>\r\n    </g>\r\n   </g>\r\n   <g id=\"patch_3\">\r\n    <path d=\"M 26.925 224.64 \r\nL 26.925 7.2 \r\n\" style=\"fill:none;stroke:#000000;stroke-linecap:square;stroke-linejoin:miter;stroke-width:0.8;\"/>\r\n   </g>\r\n   <g id=\"patch_4\">\r\n    <path d=\"M 244.365 224.64 \r\nL 244.365 7.2 \r\n\" style=\"fill:none;stroke:#000000;stroke-linecap:square;stroke-linejoin:miter;stroke-width:0.8;\"/>\r\n   </g>\r\n   <g id=\"patch_5\">\r\n    <path d=\"M 26.925 224.64 \r\nL 244.365 224.64 \r\n\" style=\"fill:none;stroke:#000000;stroke-linecap:square;stroke-linejoin:miter;stroke-width:0.8;\"/>\r\n   </g>\r\n   <g id=\"patch_6\">\r\n    <path d=\"M 26.925 7.2 \r\nL 244.365 7.2 \r\n\" style=\"fill:none;stroke:#000000;stroke-linecap:square;stroke-linejoin:miter;stroke-width:0.8;\"/>\r\n   </g>\r\n  </g>\r\n </g>\r\n <defs>\r\n  <clipPath id=\"p7781beaf51\">\r\n   <rect height=\"217.44\" width=\"217.44\" x=\"26.925\" y=\"7.2\"/>\r\n  </clipPath>\r\n </defs>\r\n</svg>\r\n",
      "image/png": "[encoded data removed]"
     },
     "metadata": {
      "needs_background": "light"
     }
    }
   ],
   "source": [
    "img = plt.imshow(datax[1])"
   ]
  },
  {
   "cell_type": "code",
   "execution_count": 5,
   "metadata": {},
   "outputs": [
    {
     "output_type": "stream",
     "name": "stdout",
     "text": [
      "(60000, 784)\n"
     ]
    }
   ],
   "source": [
    "datax_reshape = datax.reshape([datax.shape[0], datax.shape[1] * datax.shape[2]])\n",
    "print(datax_reshape.shape)                                 "
   ]
  },
  {
   "cell_type": "code",
   "execution_count": 6,
   "metadata": {},
   "outputs": [
    {
     "output_type": "stream",
     "name": "stdout",
     "text": [
      "[  0   0   0   0   0   0   0   0   0   0   0   0   0   0   0   0   0   0\n   0   0   0   0   0   0   0   0   0   0   0   0   0   0   0   0   0   0\n   0   0   0   0   0   0   0   0   0   0   0   0   0   0   0   0   0   0\n   0   0   0   0   0   0   0   0   0   0   0   0   0   0   0   0   0   0\n   0   0   0   0   0   0   0   0   0   0   0   0   0   0   0   0   0   0\n   0   0   0   0   0   0   0   0   0   0   0   0   0   0   0   0   0   0\n   0   0   0   0   0   0   0   0   0   0   0   0   0   0   0   0   0   0\n   0   0   0   0   0   0   0   0   0   0   0   0   0   0   0   0   0   0\n   0   0   0   0   0   0   0   0   3  18  18  18 126 136 175  26 166 255\n 247 127   0   0   0   0   0   0   0   0   0   0   0   0  30  36  94 154\n 170 253 253 253 253 253 225 172 253 242 195  64   0   0   0   0   0   0\n   0   0   0   0   0  49 238 253 253 253 253 253 253 253 253 251  93  82\n  82  56  39   0   0   0   0   0   0   0   0   0   0   0   0  18 219 253\n 253 253 253 253 198 182 247 241   0   0   0   0   0   0   0   0   0   0\n   0   0   0   0   0   0   0   0  80 156 107 253 253 205  11   0  43 154\n   0   0   0   0   0   0   0   0   0   0   0   0   0   0   0   0   0   0\n   0  14   1 154 253  90   0   0   0   0   0   0]\n[5 0 4 1 9 2 1 3 1 4 3 5 3 6 1 7 2 8 6 9 4 0 9 1 1 2 4 3 2 7]\n"
     ]
    }
   ],
   "source": [
    "print(datax_reshape[0,0:300]) \n",
    "print(datay[0:30]) "
   ]
  },
  {
   "cell_type": "code",
   "execution_count": 7,
   "metadata": {},
   "outputs": [
    {
     "output_type": "stream",
     "name": "stdout",
     "text": [
      "최대 : 1.0, 최소 : 0.0\n"
     ]
    }
   ],
   "source": [
    "datax_reshape_norm = datax_reshape/255\n",
    "print('최대 : {}, 최소 : {}'.format(np.max(datax_reshape_norm), np.min(datax_reshape_norm)))"
   ]
  },
  {
   "cell_type": "code",
   "execution_count": 8,
   "metadata": {},
   "outputs": [],
   "source": [
    "idx1= np.where(datay == 4)\n",
    "idx2= np.where(datay == 2)\n",
    "idx12= np.union1d(idx1,idx2)"
   ]
  },
  {
   "cell_type": "code",
   "execution_count": 9,
   "metadata": {},
   "outputs": [
    {
     "output_type": "stream",
     "name": "stdout",
     "text": [
      "(11800, 784)\n(11800,)\n"
     ]
    }
   ],
   "source": [
    "datax_train = datax_reshape_norm[idx12, :]\n",
    "datay_train = datay[idx12]\n",
    "print(datax_train.shape)\n",
    "print(datay_train.shape)"
   ]
  },
  {
   "cell_type": "code",
   "execution_count": 10,
   "metadata": {},
   "outputs": [],
   "source": [
    "from sklearn.model_selection import train_test_split\n",
    "trnx, tstx, trny, tsty = train_test_split(datax_train, datay_train, test_size= 0.35, random_state = 42)"
   ]
  },
  {
   "cell_type": "code",
   "execution_count": 18,
   "metadata": {},
   "outputs": [],
   "source": [
    "from sklearn.neural_network import MLPClassifier\n",
    "\n",
    "clf = MLPClassifier(hidden_layer_sizes=(100,10,))\n",
    "clf.fit(trnx,trny)\n",
    "tsty_hat = clf.predict(tstx)"
   ]
  },
  {
   "cell_type": "code",
   "execution_count": 19,
   "metadata": {},
   "outputs": [
    {
     "output_type": "stream",
     "name": "stdout",
     "text": [
      "MLPClassifier(hidden_layer_sizes=(100, 10))\n[2.1520450543961207, 0.8346070494574126, 0.5276160282623945, 0.39681742676165993, 0.3291003963551874, 0.28289560217477594, 0.2522406486723802, 0.22437986245275957, 0.20328034051889404, 0.18470080124515448, 0.17058765043163615, 0.15523516953034305, 0.1426745992476061, 0.13139472235313107, 0.12026223113187902, 0.11182343946240589, 0.10308726320254158, 0.09456562442292708, 0.08791229148311444, 0.08003054094042435, 0.072359970086349, 0.0669561268791523, 0.06119112831942527, 0.057297896481835094, 0.05179793386115453, 0.04623318999510303, 0.04330416365721541, 0.03963787578939733, 0.03663509602847275, 0.03359616821466967, 0.029438447925993348, 0.027030528350762768, 0.0236101261199762, 0.022423059081525514, 0.02007909873890404, 0.018208446025160925, 0.01601277807111082, 0.014347570945238416, 0.01347504352063265, 0.015052509262012495, 0.011577419406232055, 0.01048888693921068, 0.008063876302221502, 0.006651883045003596, 0.006496712210386465, 0.006347143539064313, 0.005603347526686245, 0.009475695610722663, 0.011270957536214227, 0.01552554139456163, 0.0055676807990466155, 0.003457810660751554, 0.002878314609867098, 0.0025781511727102726, 0.0023546602010615734, 0.0021732984322215257, 0.002266915656273815, 0.0023710301155319045, 0.03388397297298478, 0.011842277657126093, 0.00456045205954306, 0.002490670400427785, 0.0019285518307621903, 0.0017733017113704768, 0.0016917975301800662, 0.00162419171194234, 0.001552739611692103, 0.0014827781620484106, 0.001437459961429314, 0.0013815248960120108, 0.0013474518507771524, 0.0013051368611329043, 0.001267260711798898, 0.001228410278267894, 0.0012028607433611001]\n[[0 0 0 0 0 0 0 1 0 0]\n [0 0 0 1 0 0 0 0 0 0]\n [0 0 0 0 0 0 0 0 1 0]\n [0 0 0 0 0 0 0 0 0 1]\n [0 0 0 1 0 0 0 0 0 0]\n [0 0 0 0 0 0 0 0 0 1]\n [0 0 0 0 0 0 0 1 0 0]\n [0 0 0 0 0 0 0 1 0 0]\n [0 0 0 0 0 1 0 0 0 0]\n [0 0 0 0 1 0 0 0 0 0]\n [0 0 1 0 0 0 0 0 0 0]\n [0 0 0 0 0 1 0 0 0 0]\n [0 0 0 0 0 0 1 0 0 0]\n [0 0 0 0 0 0 0 0 1 0]\n [0 1 0 0 0 0 0 0 0 0]\n [0 0 0 0 0 0 0 1 0 0]\n [0 0 0 0 1 0 0 0 0 0]\n [0 0 0 0 0 0 0 0 1 0]\n [1 0 0 0 0 0 0 0 0 0]\n [0 0 0 0 0 0 0 1 0 0]\n [0 0 0 0 0 0 0 0 0 1]\n [0 0 0 1 0 0 0 0 0 0]\n [0 1 0 0 0 0 0 0 0 0]\n [0 0 0 0 0 0 0 1 0 0]\n [0 0 0 0 0 0 1 0 0 0]\n [0 0 0 0 0 1 0 0 0 0]\n [0 0 0 1 0 0 0 0 0 0]\n [0 0 0 1 0 0 0 0 0 0]\n [0 0 0 1 0 0 0 0 0 0]\n [0 0 0 0 0 0 1 0 0 0]\n [1 0 0 0 0 0 0 0 0 0]\n [0 0 0 0 0 0 0 0 1 0]\n [0 0 0 0 1 0 0 0 0 0]\n [0 0 0 0 0 0 0 0 0 1]\n [0 0 0 0 0 1 0 0 0 0]\n [0 1 0 0 0 0 0 0 0 0]\n [0 0 0 0 0 0 0 0 1 0]\n [0 0 0 0 0 0 0 1 0 0]\n [0 0 0 0 0 0 0 0 1 0]\n [0 0 0 0 0 0 0 0 1 0]\n [1 0 0 0 0 0 0 0 0 0]\n [0 0 0 0 0 0 0 0 1 0]\n [0 0 1 0 0 0 0 0 0 0]\n [1 0 0 0 0 0 0 0 0 0]\n [0 0 0 0 0 0 0 0 1 0]\n [0 0 0 0 0 1 0 0 0 0]\n [0 0 0 0 0 1 0 0 0 0]\n [0 0 1 0 0 0 0 0 0 0]\n [0 0 1 0 0 0 0 0 0 0]\n [1 0 0 0 0 0 0 0 0 0]\n [0 1 0 0 0 0 0 0 0 0]\n [0 0 0 0 0 1 0 0 0 0]\n [0 0 0 0 0 0 0 0 0 1]\n [0 0 0 1 0 0 0 0 0 0]\n [1 0 0 0 0 0 0 0 0 0]\n [0 0 0 0 0 0 1 0 0 0]\n [0 0 1 0 0 0 0 0 0 0]\n [0 0 1 0 0 0 0 0 0 0]\n [0 0 0 0 0 0 1 0 0 0]\n [0 0 0 0 1 0 0 0 0 0]\n [1 0 0 0 0 0 0 0 0 0]\n [0 1 0 0 0 0 0 0 0 0]\n [0 0 0 0 0 0 0 0 1 0]\n [0 0 0 0 1 0 0 0 0 0]\n [1 0 0 0 0 0 0 0 0 0]\n [0 0 1 0 0 0 0 0 0 0]\n [0 0 0 0 1 0 0 0 0 0]\n [0 0 0 0 0 0 0 1 0 0]\n [0 0 0 0 0 0 0 1 0 0]\n [0 0 0 0 1 0 0 0 0 0]\n [0 0 0 0 1 0 0 0 0 0]\n [1 0 0 0 0 0 0 0 0 0]\n [0 1 0 0 0 0 0 0 0 0]\n [0 0 0 0 1 0 0 0 0 0]\n [0 0 0 0 0 0 0 0 1 0]\n [0 0 0 0 0 0 1 0 0 0]\n [1 0 0 0 0 0 0 0 0 0]\n [1 0 0 0 0 0 0 0 0 0]\n [1 0 0 0 0 0 0 0 0 0]\n [0 0 0 0 0 0 0 0 0 1]\n [0 0 0 0 0 0 1 0 0 0]\n [0 0 0 1 0 0 0 0 0 0]\n [0 0 0 0 0 0 1 0 0 0]\n [0 0 0 0 0 0 0 0 0 1]\n [0 0 0 0 0 0 0 0 0 1]\n [0 0 0 0 1 0 0 0 0 0]\n [0 0 0 0 0 0 0 0 1 0]\n [0 0 0 0 0 0 1 0 0 0]\n [0 0 0 0 0 0 1 0 0 0]\n [0 1 0 0 0 0 0 0 0 0]\n [0 0 0 0 0 0 0 0 0 1]\n [0 0 0 0 0 1 0 0 0 0]\n [0 0 1 0 0 0 0 0 0 0]\n [0 0 0 0 0 0 1 0 0 0]\n [0 0 0 1 0 0 0 0 0 0]\n [0 0 0 0 1 0 0 0 0 0]\n [0 0 0 0 0 0 0 0 0 1]\n [0 1 0 0 0 0 0 0 0 0]\n [1 0 0 0 0 0 0 0 0 0]\n [0 0 0 0 1 0 0 0 0 0]]\n[[0 0 0 0 0 0 0 1 0 0]\n [0 0 0 1 0 0 0 0 0 0]\n [0 0 0 0 0 0 0 0 1 0]\n [0 0 0 0 0 0 0 0 0 1]\n [0 0 0 1 0 0 0 0 0 0]\n [0 0 0 0 0 0 0 0 0 1]\n [0 0 0 0 0 0 0 1 0 0]\n [0 0 0 0 0 0 0 1 0 0]\n [0 0 0 0 0 1 0 0 0 0]\n [0 0 0 0 1 0 0 0 0 0]\n [0 0 1 0 0 0 0 0 0 0]\n [0 0 0 0 0 1 0 0 0 0]\n [0 0 0 0 0 0 1 0 0 0]\n [0 0 0 0 0 0 0 0 1 0]\n [0 1 0 0 0 0 0 0 0 0]\n [0 0 0 0 0 0 0 0 0 0]\n [0 0 0 0 1 0 0 0 0 0]\n [0 0 0 0 0 0 0 0 1 0]\n [1 0 0 0 0 0 0 0 0 0]\n [0 0 0 0 0 0 0 1 0 0]\n [0 0 0 0 0 0 0 0 0 1]\n [0 0 0 1 0 0 0 0 0 0]\n [0 1 0 0 0 0 0 0 0 0]\n [0 0 0 0 0 0 0 1 0 0]\n [0 0 0 0 0 0 1 0 0 0]\n [0 0 0 0 0 1 0 0 0 0]\n [0 0 0 1 0 0 0 0 0 0]\n [0 0 0 1 0 0 0 0 0 0]\n [0 0 0 1 0 0 0 0 0 0]\n [0 0 0 0 0 0 1 0 0 0]\n [1 0 0 0 0 0 0 0 0 0]\n [0 0 1 0 0 0 0 0 1 0]\n [0 0 0 0 1 0 0 0 0 0]\n [0 0 0 0 0 0 0 0 0 1]\n [0 0 0 0 0 1 0 0 0 0]\n [0 1 0 0 0 0 0 0 0 0]\n [0 0 0 0 0 0 0 0 1 0]\n [0 0 0 0 0 0 0 1 0 0]\n [0 0 0 0 0 0 0 0 1 0]\n [0 0 0 0 0 0 0 0 1 0]\n [1 0 0 0 0 0 0 0 0 0]\n [0 0 0 0 0 0 0 0 1 0]\n [0 0 1 0 0 0 0 0 0 0]\n [1 0 0 0 0 0 0 0 0 0]\n [0 0 0 0 0 0 0 0 1 0]\n [0 0 0 0 0 1 0 0 0 0]\n [0 0 0 0 0 1 0 0 0 0]\n [0 0 0 0 0 0 0 1 0 0]\n [0 0 1 0 0 0 0 0 0 0]\n [1 0 0 0 0 0 0 0 0 0]\n [0 1 0 0 0 0 0 0 0 0]\n [0 0 0 0 0 1 0 0 0 0]\n [0 0 0 0 0 0 0 0 0 1]\n [0 0 0 1 0 0 0 0 0 0]\n [1 0 0 0 0 0 0 0 0 0]\n [0 0 0 0 0 0 1 0 0 0]\n [0 0 1 0 0 0 0 0 0 0]\n [0 0 1 0 0 0 0 0 0 0]\n [0 0 0 0 0 0 1 0 0 0]\n [0 0 0 0 1 0 0 0 0 0]\n [1 0 0 0 0 0 0 0 1 0]\n [0 0 0 0 0 0 0 0 0 0]\n [0 0 0 0 0 0 0 0 1 0]\n [0 0 0 0 1 0 0 0 0 0]\n [1 0 0 0 0 0 0 0 0 0]\n [0 0 1 0 0 0 0 0 0 0]\n [0 0 0 0 0 0 1 0 0 0]\n [0 0 0 0 0 0 0 1 0 0]\n [0 0 0 0 0 0 0 1 0 0]\n [0 0 0 0 1 0 0 0 0 0]\n [0 0 0 0 1 0 0 0 0 0]\n [1 0 0 0 0 0 0 0 0 0]\n [0 1 0 0 0 0 0 0 0 0]\n [0 0 0 0 1 0 0 0 0 0]\n [0 0 0 0 0 0 0 0 1 0]\n [0 0 0 0 0 0 1 0 0 0]\n [1 0 0 0 0 0 0 0 0 0]\n [1 0 0 0 0 0 0 0 0 0]\n [1 0 0 0 0 0 0 0 0 0]\n [0 0 0 0 0 0 0 0 0 1]\n [0 0 0 0 0 0 1 0 0 0]\n [0 0 0 1 0 0 0 0 0 0]\n [0 0 0 0 0 0 1 0 0 0]\n [0 0 0 0 0 0 0 0 0 1]\n [0 0 0 0 0 0 0 0 0 1]\n [0 0 0 0 1 0 0 0 0 0]\n [0 0 0 0 0 0 0 0 1 0]\n [0 0 0 0 0 0 1 0 0 0]\n [0 0 0 0 0 0 1 0 0 0]\n [0 1 0 0 0 0 0 0 0 0]\n [0 0 0 0 0 0 0 0 0 1]\n [0 0 0 0 0 1 0 0 0 0]\n [0 0 1 0 0 0 0 0 0 0]\n [0 0 0 0 0 0 1 0 0 0]\n [0 0 0 1 0 0 0 0 0 0]\n [0 0 0 0 1 0 0 0 0 0]\n [0 0 0 0 0 0 0 0 0 1]\n [0 1 0 0 0 0 0 0 0 0]\n [1 0 0 0 0 0 0 0 0 0]\n [0 0 0 0 0 0 0 0 0 0]]\n"
     ]
    }
   ],
   "source": [
    "print(clf)\n",
    "print(clf.loss_curve_)\n",
    "print(tsty[0:100])\n",
    "print(tsty_hat[0:100])"
   ]
  },
  {
   "cell_type": "code",
   "execution_count": 13,
   "metadata": {},
   "outputs": [
    {
     "output_type": "execute_result",
     "data": {
      "text/plain": [
       "0.9900726392251816"
      ]
     },
     "metadata": {},
     "execution_count": 13
    }
   ],
   "source": [
    "from sklearn.metrics import accuracy_score\n",
    "accuracy_score(tsty, tsty_hat)"
   ]
  },
  {
   "cell_type": "code",
   "execution_count": 14,
   "metadata": {},
   "outputs": [
    {
     "output_type": "stream",
     "name": "stdout",
     "text": [
      "[5 0 4 1 9 2 1 3 1 4]\n[[0 0 0 0 0 1 0 0 0 0]\n [1 0 0 0 0 0 0 0 0 0]\n [0 0 0 0 1 0 0 0 0 0]\n [0 1 0 0 0 0 0 0 0 0]\n [0 0 0 0 0 0 0 0 0 1]\n [0 0 1 0 0 0 0 0 0 0]\n [0 1 0 0 0 0 0 0 0 0]\n [0 0 0 1 0 0 0 0 0 0]\n [0 1 0 0 0 0 0 0 0 0]\n [0 0 0 0 1 0 0 0 0 0]]\n"
     ]
    }
   ],
   "source": [
    "from sklearn.preprocessing import LabelBinarizer\n",
    "encoder = LabelBinarizer()\n",
    "datay_onehot = encoder.fit_transform(datay)\n",
    "print(datay[0:10])\n",
    "print(datay_onehot[0:10, 0:10])\n"
   ]
  },
  {
   "cell_type": "code",
   "execution_count": 15,
   "metadata": {},
   "outputs": [
    {
     "output_type": "stream",
     "name": "stdout",
     "text": [
      "(60000, 784)\n(11800,)\n"
     ]
    }
   ],
   "source": [
    "### TEST CODE ###\n",
    "print(datax_reshape_norm.shape)\n",
    "print(datay_train.shape)\n",
    "### TEST CODE ###"
   ]
  },
  {
   "cell_type": "code",
   "execution_count": 16,
   "metadata": {},
   "outputs": [],
   "source": [
    "trnx, tstx, trny, tsty = train_test_split(datax_reshape_norm, datay_onehot, test_size= 0.25, random_state = 42)"
   ]
  },
  {
   "cell_type": "code",
   "execution_count": 17,
   "metadata": {},
   "outputs": [],
   "source": [
    "clf2 = MLPClassifier(hidden_layer_sizes=(10,15,10,20))\n",
    "clf2.fit(trnx,trny)\n",
    "tsty_hat2 = clf2.predict(tstx)"
   ]
  },
  {
   "cell_type": "code",
   "execution_count": 20,
   "metadata": {},
   "outputs": [
    {
     "output_type": "stream",
     "name": "stdout",
     "text": [
      "[7 3 8 9 3 9 7 7 5 4]\n[7 3 8 9 3 9 7 7 5 4]\n"
     ]
    }
   ],
   "source": [
    "tsty_argmax = np.argmax(tsty, axis=1)\n",
    "tsty_hat_argmax = np.argmax(tsty_hat2, axis=1)\n",
    "print(tsty_argmax[0:10])\n",
    "print(tsty_hat_argmax[0:10])"
   ]
  },
  {
   "cell_type": "code",
   "execution_count": 21,
   "metadata": {},
   "outputs": [
    {
     "output_type": "execute_result",
     "data": {
      "text/plain": [
       "0.9142"
      ]
     },
     "metadata": {},
     "execution_count": 21
    }
   ],
   "source": [
    "from sklearn.metrics import accuracy_score\n",
    "accuracy_score(tsty_argmax, tsty_hat_argmax)"
   ]
  },
  {
   "cell_type": "code",
   "execution_count": 22,
   "metadata": {},
   "outputs": [
    {
     "output_type": "execute_result",
     "data": {
      "text/plain": [
       "array([[7.34142372e-07, 5.18659492e-09, 1.38392055e-05, ...,\n",
       "        9.99766532e-01, 1.50215212e-04, 2.62331812e-04],\n",
       "       [7.56602981e-29, 2.35727416e-11, 3.22890049e-07, ...,\n",
       "        5.92994550e-28, 1.66614033e-08, 4.94696437e-06],\n",
       "       [9.49404588e-05, 3.73341360e-05, 5.91938791e-04, ...,\n",
       "        8.12562221e-08, 9.99407899e-01, 4.08691494e-05],\n",
       "       ...,\n",
       "       [6.49688645e-12, 2.44072738e-11, 1.43505038e-05, ...,\n",
       "        9.99999726e-01, 2.34614932e-07, 3.86793134e-06],\n",
       "       [2.61177216e-14, 1.11810911e-01, 3.33655056e-05, ...,\n",
       "        5.11946431e-06, 4.23335996e-03, 2.23997266e-05],\n",
       "       [9.98631474e-01, 7.16555658e-09, 1.17662299e-06, ...,\n",
       "        9.91208044e-08, 5.35890959e-06, 8.26755783e-04]])"
      ]
     },
     "metadata": {},
     "execution_count": 22
    }
   ],
   "source": [
    "clf2.predict_proba(tstx)"
   ]
  },
  {
   "cell_type": "code",
   "execution_count": null,
   "metadata": {},
   "outputs": [],
   "source": []
  }
 ],
 "metadata": {
  "kernelspec": {
   "display_name": "Python 3",
   "language": "python",
   "name": "python3"
  },
  "language_info": {
   "codemirror_mode": {
    "name": "ipython",
    "version": 3
   },
   "file_extension": ".py",
   "mimetype": "text/x-python",
   "name": "python",
   "nbconvert_exporter": "python",
   "pygments_lexer": "ipython3",
   "version": "3.7.9-final"
  }
 },
 "nbformat": 4,
 "nbformat_minor": 4
}